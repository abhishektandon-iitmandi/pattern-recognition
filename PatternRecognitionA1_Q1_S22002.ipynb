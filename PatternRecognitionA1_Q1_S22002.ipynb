{
  "nbformat": 4,
  "nbformat_minor": 0,
  "metadata": {
    "colab": {
      "provenance": [],
      "collapsed_sections": []
    },
    "kernelspec": {
      "name": "python3",
      "display_name": "Python 3"
    },
    "language_info": {
      "name": "python"
    }
  },
  "cells": [
    {
      "cell_type": "markdown",
      "source": [
        "# **Pattern Recognition: Assignment 1 - Question 1**\n",
        "\n",
        "Submitted by: \n",
        "\n",
        "Abhishek Tandon (S22002)\n",
        "\n",
        "MTech (by Research) - Intelligent Systems, SCEE"
      ],
      "metadata": {
        "id": "ue3YG0PsrSFo"
      }
    },
    {
      "cell_type": "markdown",
      "source": [
        "###Import Libraries"
      ],
      "metadata": {
        "id": "kNtXEw-JX3j9"
      }
    },
    {
      "cell_type": "code",
      "execution_count": 1,
      "metadata": {
        "id": "6ajtkeFSlqbV"
      },
      "outputs": [],
      "source": [
        "import numpy as np\n",
        "import pandas as pd\n",
        "import matplotlib.pyplot as plt\n",
        "import seaborn as sb\n",
        "import math"
      ]
    },
    {
      "cell_type": "markdown",
      "source": [
        "###Mount G-Drive"
      ],
      "metadata": {
        "id": "0DB63NBJXzvv"
      }
    },
    {
      "cell_type": "code",
      "source": [
        "from google.colab import drive\n",
        "\n",
        "drive.mount('/content/drive')\n",
        "\n",
        "# os.chdir('/content/drive/MyDrive')\n",
        "# %ls\n"
      ],
      "metadata": {
        "id": "at6TT3X1142c",
        "colab": {
          "base_uri": "https://localhost:8080/"
        },
        "outputId": "2d3b34e6-3b88-478a-b1ad-85848da71d0c"
      },
      "execution_count": 2,
      "outputs": [
        {
          "output_type": "stream",
          "name": "stdout",
          "text": [
            "Mounted at /content/drive\n"
          ]
        }
      ]
    },
    {
      "cell_type": "markdown",
      "source": [
        "\n",
        "\n",
        "## **Short-Time Energy (STE)**"
      ],
      "metadata": {
        "id": "F3kaMqXA94VU"
      }
    },
    {
      "cell_type": "markdown",
      "source": [
        "###Read Data"
      ],
      "metadata": {
        "id": "00Y9IGhZYHmD"
      }
    },
    {
      "cell_type": "code",
      "source": [
        "path = '/content/drive/MyDrive/assign1_data/q1'\n",
        "\n",
        "# read data from mounted GDrive\n",
        "# header = None is used so that first row is not skipped by DataFrame\n",
        "\n",
        "def split_data(X, ground_truth):\n",
        "    # use masking to separate data class-wise (speech and non-speech)\n",
        "\n",
        "    speech = X[ground_truth == 1]\n",
        "    non_speech = X[ground_truth == 0]\n",
        "\n",
        "    return speech, non_speech\n",
        "\n",
        "# training data\n",
        "\n",
        "X_STE = pd.read_csv(path+'/Segment2_STEnergy.csv', header = None)\n",
        "ground_truth_train = pd.read_csv(path+'/Segment2_VAD_GT.csv', header = None)\n",
        "\n",
        "X_train = np.array(X_STE)\n",
        "speech_train, non_speech_train = split_data(X_train, ground_truth_train)\n",
        "\n",
        "speech_train.shape, non_speech_train.shape\n"
      ],
      "metadata": {
        "id": "wcgnbX777TCt",
        "colab": {
          "base_uri": "https://localhost:8080/"
        },
        "outputId": "ef6cead4-98dd-412e-8891-650ff43748b7"
      },
      "execution_count": 3,
      "outputs": [
        {
          "output_type": "execute_result",
          "data": {
            "text/plain": [
              "((111,), (145,))"
            ]
          },
          "metadata": {},
          "execution_count": 3
        }
      ]
    },
    {
      "cell_type": "markdown",
      "source": [
        "###Calculate Mean and Variance for each class\n",
        "\n",
        "$$ \\,\\,\\,mean:\\,\\,\\bar{x} = \\frac{∑_{1}^{n} x_i}{N}$$\n",
        "\n",
        "\n",
        "$$ \\,\\,variance:\\,\\,\\sigma^{2} = \\frac{∑_{1}^{n} (x_i-\\bar{x})^{2}}{N}$$\n"
      ],
      "metadata": {
        "id": "3fFlpCKbYOCD"
      }
    },
    {
      "cell_type": "code",
      "source": [
        "# calculate mean and variance for sample data of speech and non-speech separately\n",
        "\n",
        "def mean_var(data):\n",
        "    n = np.size(data)\n",
        "\n",
        "    mean = np.sum(data)/n\n",
        "    var = np.sum((data - mean) ** 2)/n\n",
        "\n",
        "    return (mean, var)\n",
        "\n",
        "# mean and variance for both the classes\n",
        "mu1, var1 = mean_var(speech_train)\n",
        "mu2, var2 = mean_var(non_speech_train)\n",
        "\n",
        "# standard deviation \n",
        "sd1 = math.sqrt(var1)\n",
        "sd2 = math.sqrt(var2)\n",
        "\n",
        "print(\"Mean, Variance and Standard Deviation for: \\n\")\n",
        "print(\"Speech Training Data - \", mu1, \", \", var1, \", \", sd1)\n",
        "print(\"Non-Speech Training Data - \", mu2, \", \", var2, \", \", sd2)\n",
        "\n"
      ],
      "metadata": {
        "colab": {
          "base_uri": "https://localhost:8080/"
        },
        "id": "8DbbS5sH7de7",
        "outputId": "e998820b-d67d-40a6-e490-8ef5eaa7f466"
      },
      "execution_count": 4,
      "outputs": [
        {
          "output_type": "stream",
          "name": "stdout",
          "text": [
            "Mean, Variance and Standard Deviation for: \n",
            "\n",
            "Speech Training Data -  0.12043432332432433 ,  0.027681259243278893 ,  0.16637685909788924\n",
            "Non-Speech Training Data -  0.053090674108275865 ,  0.0012944035189149682 ,  0.03597781981881293\n"
          ]
        }
      ]
    },
    {
      "cell_type": "markdown",
      "source": [
        "###Estimate Normal Curve for Each Class\n",
        "\n",
        "$$ P(x|class) \\sim N(\\mu_2, \\sigma) = \\frac{1}{\\sqrt[]{2\\pi\\sigma}}\\exp\\Biggl[\\frac{-1}{2} \\biggr( \\frac{x-\\bar{x}}{\\sigma} \\biggl)^2 \\Biggr]$$"
      ],
      "metadata": {
        "id": "pIbsuDplYfLk"
      }
    },
    {
      "cell_type": "code",
      "source": [
        "# estimate a normal curve based on the mean and variance of the sample data\n",
        "\n",
        "val1 = np.random.normal(mu1, sd1, 10000)\n",
        "val2 = np.random.normal(mu2, sd2, 10000)\n",
        "\n",
        "sb.histplot(val1, kde=True, bins = 100, color = \"red\")\n",
        "sb.histplot(val2, kde=True, bins = 100, color = \"gray\")\n",
        "\n",
        "plt.title(\"Estimated Normal Curve for Each Class (STE)\")\n",
        "plt.legend([\"Speech\", \"Non-Speech\"])\n",
        "plt.show()\n"
      ],
      "metadata": {
        "colab": {
          "base_uri": "https://localhost:8080/",
          "height": 281
        },
        "id": "q4HZmFxQPvEw",
        "outputId": "4ac2a84e-25c8-4b28-c30c-64f2c5e418db"
      },
      "execution_count": 5,
      "outputs": [
        {
          "output_type": "display_data",
          "data": {
            "text/plain": [
              "<Figure size 432x288 with 1 Axes>"
            ],
            "image/png": "[encoded data removed]"
          },
          "metadata": {
            "needs_background": "light"
          }
        }
      ]
    },
    {
      "cell_type": "markdown",
      "source": [
        "###Calculate Liklihood, Prior and Posterior Probabilities"
      ],
      "metadata": {
        "id": "l13DTZRPYoPr"
      }
    },
    {
      "cell_type": "code",
      "source": [
        "# use mean and variance of each class\n",
        "\n",
        "def likelihood(mu, sigma, x):\n",
        "    prob_x_given_class = ( 1 / ( math.sqrt(2 * math.pi) * sigma ) ) * math.e ** ( (-0.5) * ( (x - mu) / sigma )**2 )\n",
        "    return prob_x_given_class\n",
        "\n",
        "def prior(x, X):\n",
        "    # prior for each class = number of data points that belong to that class / total number of data points\n",
        "    return np.divide(x.size, X.size)\n",
        "\n",
        "# use Bayes' Theorem to calculate posterior probability\n",
        "def posterior(likelihood, prior, evidence):\n",
        "    posterior = np.divide((likelihood * prior), evidence)\n",
        "    return posterior\n"
      ],
      "metadata": {
        "id": "eGEsXR42QG4A"
      },
      "execution_count": 6,
      "outputs": []
    },
    {
      "cell_type": "markdown",
      "source": [
        "###Test the Model\n",
        "\n",
        "######Use Baye's Theorem\n",
        "\n",
        "$$ P(speech|x) = \\frac{P(x|speech) \\, P(speech)}{P(x|speech) \\, P(speech) + P(x|nonSpeech) \\, P(nonSpeech)}; \\, \\, where\\, \\, \\, \\,  x \\, \\, = \\, test\\,data $$\n",
        "\n"
      ],
      "metadata": {
        "id": "frht7tlSD5NB"
      }
    },
    {
      "cell_type": "code",
      "source": [
        "X_test = pd.read_csv(path+'/Segment3_STEnergy.csv', header = None)\n",
        "\n",
        "# Ground Truth to test the model\n",
        "ground_truth_test = pd.read_csv(path+'/Segment3_VAD_GT.csv', header = None)\n",
        "\n",
        "# Using Numpy's array broadcast to calculate all the values in one go\n",
        "\n",
        "# calculate likelihood: required in Baye's formula \n",
        "\n",
        "# P(x|class1) or P(new datapoint|speech)\n",
        "prob_x_given_speech = likelihood(mu1, sd1, X_test) # probability that the new data point belong to speech class\n",
        "\n",
        "# probability that new data point belongs to non-speech class\n",
        "# P(x|class2) or P(new datapoint|non-speech)\n",
        "prob_x_given_non_speech = likelihood(mu2, sd2, X_test) \n",
        "\n",
        "# calculate prior probability for each class\n",
        "# P(speech) and P(non-speech) \n",
        "prob_speech = prior(speech_train, X_train)\n",
        "prob_non_speech = prior(non_speech_train, X_train)\n",
        "\n",
        "# calculate P(x) or evidence\n",
        "evidence = np.add((prob_x_given_speech * prob_speech), (prob_x_given_non_speech * prob_non_speech))\n",
        "\n",
        "\n",
        "# calculate posterior probability for each data point in test dataset i.e. probability that new-data point belongs to speech class\n",
        "# P(class1|new data-point) or P(speech|test data-point)\n",
        "prob_speech_given_x = posterior(prob_x_given_speech, prob_speech, evidence)\n",
        "\n",
        "X_test.shape\n"
      ],
      "metadata": {
        "id": "K0fXELxtZjWG",
        "colab": {
          "base_uri": "https://localhost:8080/"
        },
        "outputId": "f382ea9e-49e7-4286-e775-c59f40f0965e"
      },
      "execution_count": 7,
      "outputs": [
        {
          "output_type": "execute_result",
          "data": {
            "text/plain": [
              "(275, 1)"
            ]
          },
          "metadata": {},
          "execution_count": 7
        }
      ]
    },
    {
      "cell_type": "markdown",
      "source": [
        "###Plot ROC Curve (ST-Energy)"
      ],
      "metadata": {
        "id": "jdK35kVA5UFH"
      }
    },
    {
      "cell_type": "code",
      "source": [
        "# threshold values\n",
        "p_compare = np.linspace(0, 1, 1000)\n",
        "\n",
        "gt = np.array(ground_truth_test)\n",
        "\n",
        "# true positive rate\n",
        "tpr_ste = []\n",
        "\n",
        "# false positive rate\n",
        "fpr_ste = []\n",
        "\n",
        "# function for pair-wise comparision and counting\n",
        "def count(pred, val1, val2):\n",
        "    sum = 0\n",
        "    for i in range(0, len(pred)):\n",
        "        if pred[i] == val1 and gt[i] == val2:\n",
        "           sum = sum + 1\n",
        "    return sum\n",
        "\n",
        "for i in p_compare:\n",
        "\n",
        "    # compare P(xi|speech) by varying thresholds\n",
        "    pred = np.where(prob_speech_given_x >= i, 1, 0) # assign 1 (~belongs to speech) to values of P(x|speech) greater than p_compare[i], else 0\n",
        "    total = pred.size\n",
        "    \n",
        "    tp = count(pred, 1, 1) # true positves\n",
        "    tn = count(pred, 0, 0) # true negatives\n",
        "    fn = count(pred, 0, 1) # false negatives\n",
        "    fp = count(pred, 1, 0) # false positives\n",
        "\n",
        "    tpr_ste.append(tp/(tp+fn))\n",
        "    fpr_ste.append(fp/(fp+tn))\n",
        "\n",
        "plt.plot(fpr_ste, tpr_ste, color = 'r') # fpr on x-axis, tpr on y-axis\n",
        "plt.plot(p_compare, p_compare, color = 'gray', linestyle='--')\n",
        "\n",
        "plt.title(\"ROC Curve for STEnergy\")\n",
        "plt.xlabel(\"False Postive Rate (FPR)\")\n",
        "plt.ylabel(\"True Positive Rate (TPR)\")\n",
        "\n",
        "plt.show()\n",
        "\n",
        "    "
      ],
      "metadata": {
        "colab": {
          "base_uri": "https://localhost:8080/",
          "height": 295
        },
        "id": "uRVKZgLB7KZk",
        "outputId": "db58a067-9a0e-40c4-ed08-0145fe5e4edc"
      },
      "execution_count": 8,
      "outputs": [
        {
          "output_type": "display_data",
          "data": {
            "text/plain": [
              "<Figure size 432x288 with 1 Axes>"
            ],
            "image/png": "[encoded data removed]"
          },
          "metadata": {
            "needs_background": "light"
          }
        }
      ]
    },
    {
      "cell_type": "markdown",
      "source": [
        "-------------------------------------------\n",
        "##**MEL Energy**"
      ],
      "metadata": {
        "id": "fZLWTNqz9qxm"
      }
    },
    {
      "cell_type": "markdown",
      "source": [
        "###Read Data"
      ],
      "metadata": {
        "id": "0nbQ263s-vmN"
      }
    },
    {
      "cell_type": "code",
      "source": [
        "X_MEL = pd.read_csv(path+'/Segment2_MelEnergy.csv', header = None)\n",
        "ground_truth_train = pd.read_csv(path+'/Segment2_VAD_GT.csv', header = None)\n",
        "\n",
        "X_train_mel = np.array(X_MEL)\n",
        "\n",
        "speech_train_mel, non_speech_train_mel = split_data(X_train_mel, ground_truth_train)\n",
        "\n",
        "speech_train_mel.shape, non_speech_train_mel.shape, X_train_mel.shape"
      ],
      "metadata": {
        "id": "oCT1A665-z5k",
        "colab": {
          "base_uri": "https://localhost:8080/"
        },
        "outputId": "4aa2490b-8b4d-42f3-d158-69f37ce50853"
      },
      "execution_count": 9,
      "outputs": [
        {
          "output_type": "execute_result",
          "data": {
            "text/plain": [
              "((111,), (145,), (256, 1))"
            ]
          },
          "metadata": {},
          "execution_count": 9
        }
      ]
    },
    {
      "cell_type": "markdown",
      "source": [
        "###Mean and variance for each Class"
      ],
      "metadata": {
        "id": "FkqiHwIzAK8t"
      }
    },
    {
      "cell_type": "code",
      "source": [
        "# mean and variance for both the classes\n",
        "mu1_mel, var1_mel = mean_var(speech_train_mel)\n",
        "mu2_mel, var2_mel = mean_var(non_speech_train_mel)\n",
        "\n",
        "# standard deviation \n",
        "sd1_mel = math.sqrt(var1_mel)\n",
        "sd2_mel = math.sqrt(var2_mel)\n",
        "\n",
        "print(\"Mean, Variance and Standard Deviation for: \\n\")\n",
        "print(\"Speech Training Data - \", mu1_mel, \", \", var1_mel, \", \", sd1_mel)\n",
        "print(\"Non-Speech Training Data - \", mu2_mel, \", \", var2_mel, \", \", sd2_mel)\n"
      ],
      "metadata": {
        "colab": {
          "base_uri": "https://localhost:8080/"
        },
        "id": "tDIh_miqAKat",
        "outputId": "8ec5ffdc-2fe5-49d0-c2e7-cb1186e928bd"
      },
      "execution_count": 10,
      "outputs": [
        {
          "output_type": "stream",
          "name": "stdout",
          "text": [
            "Mean, Variance and Standard Deviation for: \n",
            "\n",
            "Speech Training Data -  0.6100466456738739 ,  0.022868307223842404 ,  0.15122270736844518\n",
            "Non-Speech Training Data -  0.45865463603448275 ,  0.005185428144146614 ,  0.07200991698472241\n"
          ]
        }
      ]
    },
    {
      "cell_type": "markdown",
      "source": [
        "###Estimate Normal Curve"
      ],
      "metadata": {
        "id": "-IPC0VoKAw2-"
      }
    },
    {
      "cell_type": "code",
      "source": [
        "# estimate a normal curve based on the mean and variance of the sample data\n",
        "\n",
        "val1_mel = np.random.normal(mu1_mel, sd1_mel, 10000)\n",
        "val2_mel = np.random.normal(mu2_mel, sd2_mel, 10000)\n",
        "\n",
        "sb.histplot(val1_mel, kde=True, bins = 100, color = \"blue\")\n",
        "sb.histplot(val2_mel, kde=True, bins = 100, color = \"grey\")\n",
        "\n",
        "plt.title(\"Estimated Normal Curve for Each Class (MEL)\")\n",
        "plt.legend([\"Speech\", \"Non-Speech\"])\n",
        "plt.show()\n"
      ],
      "metadata": {
        "colab": {
          "base_uri": "https://localhost:8080/",
          "height": 281
        },
        "id": "9p01n_g1Anpk",
        "outputId": "ada00b56-7324-4039-d51a-180840cf54b0"
      },
      "execution_count": 11,
      "outputs": [
        {
          "output_type": "display_data",
          "data": {
            "text/plain": [
              "<Figure size 432x288 with 1 Axes>"
            ],
            "image/png": "[encoded data removed]"
          },
          "metadata": {
            "needs_background": "light"
          }
        }
      ]
    },
    {
      "cell_type": "markdown",
      "source": [
        "###Test the Model"
      ],
      "metadata": {
        "id": "NuHYkKIvCCC-"
      }
    },
    {
      "cell_type": "code",
      "source": [
        "X_test_mel = pd.read_csv(path+'/Segment3_MelEnergy.csv', header = None)\n",
        "\n",
        "# Ground Truth for testing the model\n",
        "ground_truth_test = pd.read_csv(path+'/Segment3_VAD_GT.csv', header = None)\n",
        "\n",
        "# likelihood\n",
        "prob_x_given_speech_mel = likelihood(mu1_mel, sd1_mel, X_test_mel)\n",
        "prob_x_given_non_speech_mel = likelihood(mu2_mel, sd2_mel, X_test_mel) \n",
        "\n",
        "# prior probability\n",
        "prob_speech_mel = prior(speech_train_mel, X_train_mel)\n",
        "prob_non_speech_mel = prior(non_speech_train_mel, X_train_mel)\n",
        "\n",
        "# P(x) or evidence\n",
        "evidence_mel = np.add((prob_x_given_speech_mel * prob_speech_mel), (prob_x_given_non_speech_mel * prob_non_speech_mel))\n",
        "\n",
        "# posterior probability\n",
        "prob_speech_given_x_mel = posterior(prob_x_given_speech_mel, prob_speech_mel, evidence_mel)\n",
        "\n",
        "X_test_mel.shape\n"
      ],
      "metadata": {
        "id": "TXcM4qRCBIE7",
        "colab": {
          "base_uri": "https://localhost:8080/"
        },
        "outputId": "9490294a-8815-42f0-d865-0c3537101185"
      },
      "execution_count": 12,
      "outputs": [
        {
          "output_type": "execute_result",
          "data": {
            "text/plain": [
              "(275, 1)"
            ]
          },
          "metadata": {},
          "execution_count": 12
        }
      ]
    },
    {
      "cell_type": "markdown",
      "source": [
        "###ROC Curve (MEL Energy)"
      ],
      "metadata": {
        "id": "gmDapgl5Cv44"
      }
    },
    {
      "cell_type": "code",
      "source": [
        "gt = np.array(ground_truth_test)\n",
        "\n",
        "# true positive rate\n",
        "tpr_mel = []\n",
        "\n",
        "# false positive rate\n",
        "fpr_mel = []\n",
        "\n",
        "for i in p_compare:\n",
        "\n",
        "    # compare P(xi|speech) by varying thresholds \n",
        "    pred_mel = np.where(prob_speech_given_x_mel >= i, 1, 0)  # assign 1 to values of P(x|speech) greater than p_compare[i], else 0\n",
        "    total = pred_mel.size\n",
        "    \n",
        "    tp_mel = count(pred_mel, 1, 1) # true positves\n",
        "    tn_mel = count(pred_mel, 0, 0) # true negatives\n",
        "    fn_mel = count(pred_mel, 0, 1) # false negatives\n",
        "    fp_mel = count(pred_mel, 1, 0) # false positives\n",
        "\n",
        "    # calculate true positive rate and false positive rate\n",
        "    tpr_mel.append(tp_mel/(tp_mel+fn_mel))\n",
        "    fpr_mel.append(fp_mel/(fp_mel+tn_mel))\n",
        "\n",
        "plt.plot(fpr_mel, tpr_mel) # fpr on x-axis, tpr on y-axis\n",
        "plt.plot(p_compare, p_compare, color = 'gray', linestyle='--') # threshold\n",
        "\n",
        "plt.title(\"ROC Curve for MEL Energy\")\n",
        "plt.xlabel(\"False Postive Rate (FPR)\")\n",
        "plt.ylabel(\"True Positive Rate (TPR)\")\n",
        "\n",
        "plt.show()\n",
        "\n",
        "    "
      ],
      "metadata": {
        "colab": {
          "base_uri": "https://localhost:8080/",
          "height": 295
        },
        "id": "HTvzr6koCr7h",
        "outputId": "d5912957-87cf-4c66-f30b-f21cfc0d08c6"
      },
      "execution_count": 13,
      "outputs": [
        {
          "output_type": "display_data",
          "data": {
            "text/plain": [
              "<Figure size 432x288 with 1 Axes>"
            ],
            "image/png": "[encoded data removed]"
          },
          "metadata": {
            "needs_background": "light"
          }
        }
      ]
    },
    {
      "cell_type": "markdown",
      "source": [
        "###**Compare ROC Curves (MEL vs STE)**"
      ],
      "metadata": {
        "id": "ZysviEURHf0n"
      }
    },
    {
      "cell_type": "code",
      "source": [
        "\n",
        "plt.plot(fpr_mel, tpr_mel)\n",
        "plt.plot(fpr_ste, tpr_ste, color = 'r')\n",
        "plt.plot(p_compare, p_compare, color = 'gray', linestyle='--')\n",
        "\n",
        "plt.legend([\"MEL\", \"STE\"])\n",
        "plt.title(\"ROC Curves for MEL and ST-Energy\")\n",
        "\n",
        "plt.xlabel(\"False Postive Rate (FPR)\")\n",
        "plt.ylabel(\"True Positive Rate (TPR)\")\n",
        "plt.show()"
      ],
      "metadata": {
        "colab": {
          "base_uri": "https://localhost:8080/",
          "height": 295
        },
        "id": "z39MEvPxHqA-",
        "outputId": "e5c38449-e79e-43f3-bf12-4d3db3d7f618"
      },
      "execution_count": 14,
      "outputs": [
        {
          "output_type": "display_data",
          "data": {
            "text/plain": [
              "<Figure size 432x288 with 1 Axes>"
            ],
            "image/png": "[encoded data removed]"
          },
          "metadata": {
            "needs_background": "light"
          }
        }
      ]
    },
    {
      "cell_type": "markdown",
      "source": [
        "####Conclusion: MEL Energy gives better results as compared to ST-Energy"
      ],
      "metadata": {
        "id": "YFXNdc2PTh_s"
      }
    }
  ]
}